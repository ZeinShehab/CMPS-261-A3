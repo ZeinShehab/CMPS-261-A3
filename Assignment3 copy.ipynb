{
  "cells": [
    {
      "cell_type": "markdown",
      "metadata": {
        "id": "SBL4EK2uOu2j"
      },
      "source": [
        "<div class=\"alert alert-block alert-info\" >\n",
        "<H1>CMPS 261 -Machine Learning: Assignment 3 </h1>\n",
        "\n",
        "### General Information:\n",
        "<p>Feel free to add cells if required.\n",
        "<br> Write your own function block to reduce the redundancy.<br> Answers belong into the corresponding cells (below the question). <br>\n",
        "<br> If you encounter empty cells underneath the answer that can not be edited, please ignore them, they are for testing purposes.<br><br>When editing an assignment there can be the case that there are variables in the Runtime. To make sure your assignment works, please restart the Runtime and run all cells before submitting (e.g. via <i>Runtime -> Restart & Run All</i>). We don't consider that respective solution if you make this mistake <b>(no excuse)</b>.</p>\n",
        "    <br><br><b> Give proper comments, follow camel case for the function name, use proper readable variable names to your coding, if you didn't follow the instructions there will be points reduction.</b><br><br>    \n",
        "\n",
        "\n",
        "### Submission:\n",
        "<p> Use the following naming format for your IPYNB: <b>Ass#_xyz0000</b>  (where # is the assignment number and xyz0000 is your AUB Net)<br>\n",
        "</div>"
      ]
    },
    {
      "cell_type": "markdown",
      "metadata": {
        "id": "Mtvt7G31Ou2l"
      },
      "source": [
        "<div class=\"alert alert-danger\" role=\"alert\">\n",
        "<b>1.Make sure to run all the cells before submitting your solution. Any notebook that has no output will <u><font color=red>not be graded </font></u><b><br><br>\n",
        "<b>2.If an assignment has a copied solution, the task will be graded with 0 points for all people with the same solution. </b><br><br>\n",
        "<b>3.If we detect that the code is <font color=red><u><i>CHATGPT</i></u></font> or <font color=red><u><i>COPILOT</i></u></font> generated then you will get a 0 not only for the coding part but for the whole assignment</b>\n",
        "<br><br>4.Do not use theta implementation\n",
        "</div>\n"
      ]
    },
    {
      "cell_type": "code",
      "execution_count": 1,
      "metadata": {
        "id": "Ch25iodBOu2m"
      },
      "outputs": [],
      "source": [
        "Aub_net='zms32'\n",
        "Aub_id ='202201282'"
      ]
    },
    {
      "cell_type": "markdown",
      "metadata": {
        "id": "n2ldPyLwVK5X"
      },
      "source": [
        "# Assignment 3"
      ]
    },
    {
      "cell_type": "code",
      "execution_count": 2,
      "metadata": {},
      "outputs": [],
      "source": [
        "from IPython.display import Latex"
      ]
    },
    {
      "cell_type": "markdown",
      "metadata": {
        "id": "XZ8_l2jpO7eL"
      },
      "source": [
        "Type your solution for the written part here:"
      ]
    },
    {
      "cell_type": "code",
      "execution_count": 18,
      "metadata": {},
      "outputs": [
        {
          "data": {
            "text/latex": [
              "\n",
              "\\begin{align}\n",
              "    Dim(A^1) = (2,n)\\texttt{where n is the number of input samples}\\\\\n",
              "    Dim(A^2) = (2,n)\\texttt{where n is the number of input samples}\\\\\n",
              "    Dim(A^3) = (1,n)\\texttt{where n is the number of input samples}\\\\\n",
              "\\end{align}\n"
            ],
            "text/plain": [
              "<IPython.core.display.Latex object>"
            ]
          },
          "metadata": {},
          "output_type": "display_data"
        }
      ],
      "source": [
        "%%latex\n",
        "\n",
        "\\begin{align}\n",
        "    Dim(A^1) = (2,n)\\texttt{where n is the number of input samples}\\\\\n",
        "    Dim(A^2) = (2,n)\\texttt{where n is the number of input samples}\\\\\n",
        "    Dim(A^3) = (1,n)\\texttt{where n is the number of input samples}\\\\\n",
        "\\end{align}"
      ]
    },
    {
      "cell_type": "code",
      "execution_count": 19,
      "metadata": {},
      "outputs": [
        {
          "data": {
            "text/latex": [
              "\n",
              "\\begin{align}\n",
              "    Dim(X) = (10,2)\\\\\n",
              "\\end{align}\n"
            ],
            "text/plain": [
              "<IPython.core.display.Latex object>"
            ]
          },
          "metadata": {},
          "output_type": "display_data"
        }
      ],
      "source": [
        "%%latex \n",
        "\n",
        "\\begin{align}\n",
        "    Dim(X) = (10,2)\\\\\n",
        "\\end{align}"
      ]
    },
    {
      "cell_type": "code",
      "execution_count": 5,
      "metadata": {},
      "outputs": [
        {
          "data": {
            "text/latex": [
              "\n",
              "\\begin{align}\n",
              "    h_{w,b}(x) = \\sigma (W^{(3)} \\times g(W^{(2)} \\times g(W^{(1)} \\times x + b^{(1)}) + b^{(2)}) + b^{(3)})\n",
              "\\end{align}\n"
            ],
            "text/plain": [
              "<IPython.core.display.Latex object>"
            ]
          },
          "metadata": {},
          "output_type": "display_data"
        }
      ],
      "source": [
        "%%latex\n",
        "\n",
        "\\begin{align}\n",
        "    h_{w,b}(x) = \\sigma (W^{(3)} \\times g(W^{(2)} \\times g(W^{(1)} \\times x + b^{(1)}) + b^{(2)}) + b^{(3)})\n",
        "\\end{align}"
      ]
    },
    {
      "cell_type": "code",
      "execution_count": 9,
      "metadata": {},
      "outputs": [
        {
          "data": {
            "text/latex": [
              "\n",
              "\\begin{align}\n",
              "    Z^{(1)} = W^{(1)}\\times A^{(0)} + b^{(1)} =  [(-3,2), (-2,-2)] \\times [2,5] + [1,-1] = [5,-15]\\\\\n",
              "    A^{(1)} = g(Z^{(1)}) = [5, -15]\\\\\\\\\n",
              "\n",
              "    Z^{(2)} = W^{(2)}\\times A^{(1)} + b^{(2)} = [(2,2)] * [5,-15] + 1 = 21\\\\\n",
              "    A^{(2)} = g(Z^{(2)}) = 21\\\\\\\\\n",
              "\n",
              "    Z^{(3)} = W^{(3)} \\times A^{(2)} + b^{(3)} = 3 * 21 + 4 = 67\\\\\n",
              "    h_{w,b}(x) = A^{(3)} = \\sigma(Z^{(3)}) = \\sigma(67) = 1\n",
              "\n",
              "\n",
              "\\end{align}\n"
            ],
            "text/plain": [
              "<IPython.core.display.Latex object>"
            ]
          },
          "metadata": {},
          "output_type": "display_data"
        }
      ],
      "source": [
        "%%latex\n",
        "\n",
        "\\begin{align}\n",
        "    Z^{(1)} = W^{(1)}\\times A^{(0)} + b^{(1)} =  [(-3,2), (-2,-2)] \\times [2,5] + [1,-1] = [5,-15]\\\\\n",
        "    A^{(1)} = g(Z^{(1)}) = [5, -15]\\\\\\\\\n",
        "\n",
        "    Z^{(2)} = W^{(2)}\\times A^{(1)} + b^{(2)} = [(2,2)] * [5,-15] + 1 = 21\\\\\n",
        "    A^{(2)} = g(Z^{(2)}) = 21\\\\\\\\\n",
        "\n",
        "    Z^{(3)} = W^{(3)} \\times A^{(2)} + b^{(3)} = 3 * 21 + 4 = 67\\\\\n",
        "    h_{w,b}(x) = A^{(3)} = \\sigma(Z^{(3)}) = \\sigma(67) = 1\n",
        "\n",
        "\n",
        "\\end{align}"
      ]
    },
    {
      "cell_type": "code",
      "execution_count": 10,
      "metadata": {},
      "outputs": [
        {
          "data": {
            "text/latex": [
              "\n",
              "\\begin{align}\n",
              "\n",
              "\\delta^{(3)} = (h_{w,b}(x) - y) \\times \\sigma\\prime(Z^{(3)})\\\\\n",
              "\\delta^{(3)} = (h_{w,b}(x) - y) \\times \\sigma(Z^{(3)}) \\times (1 - \\sigma(Z^{(3)}))\n",
              "\n",
              "\\end{align}\n"
            ],
            "text/plain": [
              "<IPython.core.display.Latex object>"
            ]
          },
          "metadata": {},
          "output_type": "display_data"
        }
      ],
      "source": [
        "%%latex\n",
        "\n",
        "\\begin{align}\n",
        "\n",
        "\\delta^{(3)} = (h_{w,b}(x) - y) \\times \\sigma\\prime(Z^{(3)})\\\\\n",
        "\\delta^{(3)} = (h_{w,b}(x) - y) \\times \\sigma(Z^{(3)}) \\times (1 - \\sigma(Z^{(3)}))\n",
        "\n",
        "\\end{align}"
      ]
    },
    {
      "cell_type": "markdown",
      "metadata": {
        "id": "rA3AXh0UVK5Y"
      },
      "source": [
        "In the following exercises you will be working with the MNIST dataset. The MNIST dataset consists of 60,000 images of handwritten digits (0-9). In this assignment, you will only be working with the images corresponding to the digits 0 and 1, making this a binary classification problem. The next few cells loads the dataset, visualizes an exmple, extracts the relevant classes, and transforms the images (28x28 pixels) to 1-dimensional arrays to be used for training. Make sure to run those cells before starting your assignment. "
      ]
    },
    {
      "cell_type": "code",
      "execution_count": 2,
      "metadata": {
        "colab": {
          "base_uri": "https://localhost:8080/",
          "height": 265
        },
        "id": "-rrsrsJR1Zyb",
        "outputId": "5c18004d-5e8d-4bbf-a661-3af0f460fab5"
      },
      "outputs": [
        {
          "ename": "ModuleNotFoundError",
          "evalue": "No module named 'tensorflow'",
          "output_type": "error",
          "traceback": [
            "\u001b[1;31m---------------------------------------------------------------------------\u001b[0m",
            "\u001b[1;31mModuleNotFoundError\u001b[0m                       Traceback (most recent call last)",
            "\u001b[1;32mc:\\Users\\zeinshehab\\OneDrive - American University of Beirut\\AUB\\CMPS_261\\HW3\\Assignment3.ipynb Cell 7\u001b[0m in \u001b[0;36m<cell line: 2>\u001b[1;34m()\u001b[0m\n\u001b[0;32m      <a href='vscode-notebook-cell:/c%3A/Users/zeinshehab/OneDrive%20-%20American%20University%20of%20Beirut/AUB/CMPS_261/HW3/Assignment3.ipynb#W6sZmlsZQ%3D%3D?line=0'>1</a>\u001b[0m \u001b[39m# Load the entire MNIST dataseat\u001b[39;00m\n\u001b[1;32m----> <a href='vscode-notebook-cell:/c%3A/Users/zeinshehab/OneDrive%20-%20American%20University%20of%20Beirut/AUB/CMPS_261/HW3/Assignment3.ipynb#W6sZmlsZQ%3D%3D?line=1'>2</a>\u001b[0m \u001b[39mimport\u001b[39;00m \u001b[39mtensorflow\u001b[39;00m \u001b[39mas\u001b[39;00m \u001b[39mtf\u001b[39;00m\n\u001b[0;32m      <a href='vscode-notebook-cell:/c%3A/Users/zeinshehab/OneDrive%20-%20American%20University%20of%20Beirut/AUB/CMPS_261/HW3/Assignment3.ipynb#W6sZmlsZQ%3D%3D?line=2'>3</a>\u001b[0m (X_train, y_train), (X_test, y_test) \u001b[39m=\u001b[39m tf\u001b[39m.\u001b[39mkeras\u001b[39m.\u001b[39mdatasets\u001b[39m.\u001b[39mmnist\u001b[39m.\u001b[39mload_data()\n\u001b[0;32m      <a href='vscode-notebook-cell:/c%3A/Users/zeinshehab/OneDrive%20-%20American%20University%20of%20Beirut/AUB/CMPS_261/HW3/Assignment3.ipynb#W6sZmlsZQ%3D%3D?line=4'>5</a>\u001b[0m \u001b[39m# Select examples corresponding to digits 0 and 1\u001b[39;00m\n",
            "\u001b[1;31mModuleNotFoundError\u001b[0m: No module named 'tensorflow'"
          ]
        }
      ],
      "source": [
        "# Load the entire MNIST dataseat\n",
        "import tensorflow as tf\n",
        "(X_train, y_train), (X_test, y_test) = tf.keras.datasets.mnist.load_data()\n",
        "\n",
        "# Select examples corresponding to digits 0 and 1\n",
        "import numpy as np\n",
        "train_filter = np.where((y_train == 0) | (y_train == 1))\n",
        "test_filter = np.where((y_test == 0) | (y_test == 1))\n",
        "\n",
        "X_train, y_train = X_train[train_filter], y_train[train_filter]\n",
        "X_test, y_test = X_test[test_filter], y_test[test_filter]\n",
        "\n",
        "# Visualize example images\n",
        "import matplotlib.pyplot as plt\n",
        "plt.imshow(X_train[10], cmap='gray')\n",
        "# Reshape images as 1-D arrays to be used as input to SVMs and MLPs\n",
        "X_train = np.reshape(X_train, (X_train.shape[0], 784)) # 28 x 28 = 784\n",
        "X_test = np.reshape(X_test, (X_test.shape[0], 784)) # 28 x 28 = 784"
      ]
    },
    {
      "cell_type": "markdown",
      "metadata": {
        "id": "GQZr3oSkVK5Z"
      },
      "source": [
        "## Exercise 1:  SVM"
      ]
    },
    {
      "cell_type": "markdown",
      "metadata": {
        "id": "bqPPV85aVK5a"
      },
      "source": [
        "Train a linear SVM classifier on the training data. "
      ]
    },
    {
      "cell_type": "code",
      "execution_count": null,
      "metadata": {
        "collapsed": true,
        "id": "88Jbd0P1VK5a"
      },
      "outputs": [],
      "source": [
        "from sklearn.<> import <>\n",
        "\n",
        "'''Write your code here'''\n"
      ]
    },
    {
      "cell_type": "markdown",
      "metadata": {
        "id": "xILV_ICLYpSo"
      },
      "source": [
        "Results:"
      ]
    },
    {
      "cell_type": "markdown",
      "metadata": {
        "id": "PnrdwuhKVK5c"
      },
      "source": [
        "In the cell below, repeat the same steps using an SVM with a different kernel: "
      ]
    },
    {
      "cell_type": "code",
      "execution_count": null,
      "metadata": {
        "collapsed": true,
        "id": "LiVCOd1BVK5c"
      },
      "outputs": [],
      "source": [
        "from sklearn.svm import SVC\n",
        "\n",
        "'''Write your code here'''\n"
      ]
    },
    {
      "cell_type": "markdown",
      "metadata": {
        "id": "lwtFiVx_VK5f"
      },
      "source": [
        "Save the model you just trained.\n",
        "\n",
        "To learn more about how to save an sklearn model:\n",
        "\n",
        "https://scikit-learn.org/stable/model_persistence.html"
      ]
    },
    {
      "cell_type": "code",
      "execution_count": null,
      "metadata": {
        "id": "lLROBD4QaHzL"
      },
      "outputs": [],
      "source": [
        "import pickle\n",
        "\n",
        "'''Write your code here'''\n"
      ]
    },
    {
      "cell_type": "markdown",
      "metadata": {
        "id": "BZfItpREVK5f"
      },
      "source": [
        "## Exercise 2: Neural Networks"
      ]
    },
    {
      "cell_type": "markdown",
      "metadata": {
        "id": "9sOkBi2vb5q6"
      },
      "source": [
        "In this exercise you will experiment with training neural networks using different libraries (Sklearn, Tensorflow, and your own manual implementation :D)"
      ]
    },
    {
      "cell_type": "markdown",
      "metadata": {
        "id": "vpeG5RohdYPH"
      },
      "source": [
        "1. Use Sklearn to experiment with 3 different neural network architectures:"
      ]
    },
    {
      "cell_type": "code",
      "execution_count": null,
      "metadata": {
        "collapsed": true,
        "id": "etPk2xcLVK5f"
      },
      "outputs": [],
      "source": [
        "from sklearn.neural_network import MLPClassifier\n",
        "\n",
        "'''Write your code here'''\n",
        "model_1 = \n",
        "\n",
        "\n",
        "model_2 = \n",
        "\n",
        "\n",
        "model_3 = "
      ]
    },
    {
      "cell_type": "markdown",
      "metadata": {
        "id": "AwkpR4saiwuH"
      },
      "source": [
        "2. You will now perform forward propagation manually. \n",
        "Start by extracting the weights and biases of the best trained model in the previous exercise (refer to SKlearn's MLPClassifier documentation to identify the proper attribute names). "
      ]
    },
    {
      "cell_type": "code",
      "execution_count": null,
      "metadata": {
        "id": "c1YDrLUhjPe-"
      },
      "outputs": [],
      "source": [
        "'''Write your code here'''\n"
      ]
    },
    {
      "cell_type": "markdown",
      "metadata": {
        "id": "ea5wTxWZjV8W"
      },
      "source": [
        "Represent the extracted weights and biases as numpy arrays and perform forward propagation on the first example of the dataset. To validate your result, your best model should produce a similar output when used to call SKlearn's predict() method. "
      ]
    },
    {
      "cell_type": "code",
      "execution_count": null,
      "metadata": {
        "id": "2N7rsrwXjtfo"
      },
      "outputs": [],
      "source": [
        "# Load the best model saved earlier using pickle:\n",
        "\n",
        "best_model = ...\n",
        "\n",
        "# Get the output of forward propagation on the first example in the dataset:\n",
        "\n",
        "sk_output = best_model.predict(...)\n",
        "\n",
        "# Perform the necessary matrix-vector operations to forward propagate the same example using np.matmul()\n",
        "'''Write your code here'''\n"
      ]
    },
    {
      "cell_type": "markdown",
      "metadata": {
        "id": "H8s8YJsbe0uO"
      },
      "source": [
        "3. Implement the neural network with the best architecture using tensorflow:"
      ]
    },
    {
      "cell_type": "code",
      "execution_count": null,
      "metadata": {
        "id": "5FfzIs9Re8OP"
      },
      "outputs": [],
      "source": [
        "%%time \n",
        "\n",
        "from tensorflow.keras.layers import Dense\n",
        "from keras import Sequential\n",
        "\n",
        "'''Write your code here'''\n"
      ]
    },
    {
      "cell_type": "markdown",
      "metadata": {
        "id": "yNsVX8cAfy4y"
      },
      "source": [
        "Time the above code then change the Runtime settings of this notebook by clicking on \"Runtime -> Change Runtime Type -> Hardware Accelerator\" and select GPU. Re-run question 2 (the tensorflow implementation) and report the difference in timing below:\n",
        "\n",
        "Time without GPU:\n",
        "\n",
        "Time with GPU:\n",
        "\n",
        "(If the model is too simple, GPU acceleration will not be noticeable, or may even slow things down). "
      ]
    }
  ],
  "metadata": {
    "colab": {
      "provenance": []
    },
    "kernelspec": {
      "display_name": "Python 3",
      "language": "python",
      "name": "python3"
    },
    "language_info": {
      "codemirror_mode": {
        "name": "ipython",
        "version": 3
      },
      "file_extension": ".py",
      "mimetype": "text/x-python",
      "name": "python",
      "nbconvert_exporter": "python",
      "pygments_lexer": "ipython3",
      "version": "3.10.0"
    },
    "vscode": {
      "interpreter": {
        "hash": "9591823162adff57ac6f326a3f24eadb01388960a110baa55d45093a97349d18"
      }
    }
  },
  "nbformat": 4,
  "nbformat_minor": 0
}
